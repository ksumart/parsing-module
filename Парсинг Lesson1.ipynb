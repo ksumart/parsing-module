{
 "cells": [
  {
   "cell_type": "code",
   "execution_count": 1,
   "metadata": {},
   "outputs": [],
   "source": [
    "import requests"
   ]
  },
  {
   "cell_type": "code",
   "execution_count": 2,
   "metadata": {},
   "outputs": [],
   "source": [
    "import json"
   ]
  },
  {
   "cell_type": "code",
   "execution_count": 3,
   "metadata": {},
   "outputs": [],
   "source": [
    "from pprint import pprint"
   ]
  },
  {
   "cell_type": "code",
   "execution_count": 4,
   "metadata": {},
   "outputs": [],
   "source": [
    "url = 'https://api.github.com'"
   ]
  },
  {
   "cell_type": "code",
   "execution_count": 5,
   "metadata": {},
   "outputs": [],
   "source": [
    "username = 'ksumart'"
   ]
  },
  {
   "cell_type": "code",
   "execution_count": 6,
   "metadata": {},
   "outputs": [],
   "source": [
    "url = f'https://api.github.com/users/{username}' "
   ]
  },
  {
   "cell_type": "code",
   "execution_count": 7,
   "metadata": {},
   "outputs": [],
   "source": [
    "user_data = requests.get(url).json()"
   ]
  },
  {
   "cell_type": "code",
   "execution_count": 8,
   "metadata": {},
   "outputs": [
    {
     "name": "stdout",
     "output_type": "stream",
     "text": [
      "{'avatar_url': 'https://avatars.githubusercontent.com/u/75140821?v=4',\n",
      " 'bio': None,\n",
      " 'blog': '',\n",
      " 'company': 'Geekbrains student',\n",
      " 'created_at': '2020-11-27T19:26:50Z',\n",
      " 'email': None,\n",
      " 'events_url': 'https://api.github.com/users/ksumart/events{/privacy}',\n",
      " 'followers': 0,\n",
      " 'followers_url': 'https://api.github.com/users/ksumart/followers',\n",
      " 'following': 0,\n",
      " 'following_url': 'https://api.github.com/users/ksumart/following{/other_user}',\n",
      " 'gists_url': 'https://api.github.com/users/ksumart/gists{/gist_id}',\n",
      " 'gravatar_id': '',\n",
      " 'hireable': None,\n",
      " 'html_url': 'https://github.com/ksumart',\n",
      " 'id': 75140821,\n",
      " 'location': 'moscow',\n",
      " 'login': 'ksumart',\n",
      " 'name': None,\n",
      " 'node_id': 'MDQ6VXNlcjc1MTQwODIx',\n",
      " 'organizations_url': 'https://api.github.com/users/ksumart/orgs',\n",
      " 'public_gists': 0,\n",
      " 'public_repos': 25,\n",
      " 'received_events_url': 'https://api.github.com/users/ksumart/received_events',\n",
      " 'repos_url': 'https://api.github.com/users/ksumart/repos',\n",
      " 'site_admin': False,\n",
      " 'starred_url': 'https://api.github.com/users/ksumart/starred{/owner}{/repo}',\n",
      " 'subscriptions_url': 'https://api.github.com/users/ksumart/subscriptions',\n",
      " 'twitter_username': None,\n",
      " 'type': 'User',\n",
      " 'updated_at': '2021-06-13T11:17:55Z',\n",
      " 'url': 'https://api.github.com/users/ksumart'}\n"
     ]
    }
   ],
   "source": [
    "pprint(user_data)"
   ]
  },
  {
   "cell_type": "code",
   "execution_count": 9,
   "metadata": {},
   "outputs": [],
   "source": [
    "response = requests.get(url)"
   ]
  },
  {
   "cell_type": "code",
   "execution_count": 10,
   "metadata": {},
   "outputs": [],
   "source": [
    "j_data = response.json()"
   ]
  },
  {
   "cell_type": "code",
   "execution_count": 11,
   "metadata": {},
   "outputs": [
    {
     "name": "stdout",
     "output_type": "stream",
     "text": [
      "{'avatar_url': 'https://avatars.githubusercontent.com/u/75140821?v=4',\n",
      " 'bio': None,\n",
      " 'blog': '',\n",
      " 'company': 'Geekbrains student',\n",
      " 'created_at': '2020-11-27T19:26:50Z',\n",
      " 'email': None,\n",
      " 'events_url': 'https://api.github.com/users/ksumart/events{/privacy}',\n",
      " 'followers': 0,\n",
      " 'followers_url': 'https://api.github.com/users/ksumart/followers',\n",
      " 'following': 0,\n",
      " 'following_url': 'https://api.github.com/users/ksumart/following{/other_user}',\n",
      " 'gists_url': 'https://api.github.com/users/ksumart/gists{/gist_id}',\n",
      " 'gravatar_id': '',\n",
      " 'hireable': None,\n",
      " 'html_url': 'https://github.com/ksumart',\n",
      " 'id': 75140821,\n",
      " 'location': 'moscow',\n",
      " 'login': 'ksumart',\n",
      " 'name': None,\n",
      " 'node_id': 'MDQ6VXNlcjc1MTQwODIx',\n",
      " 'organizations_url': 'https://api.github.com/users/ksumart/orgs',\n",
      " 'public_gists': 0,\n",
      " 'public_repos': 25,\n",
      " 'received_events_url': 'https://api.github.com/users/ksumart/received_events',\n",
      " 'repos_url': 'https://api.github.com/users/ksumart/repos',\n",
      " 'site_admin': False,\n",
      " 'starred_url': 'https://api.github.com/users/ksumart/starred{/owner}{/repo}',\n",
      " 'subscriptions_url': 'https://api.github.com/users/ksumart/subscriptions',\n",
      " 'twitter_username': None,\n",
      " 'type': 'User',\n",
      " 'updated_at': '2021-06-13T11:17:55Z',\n",
      " 'url': 'https://api.github.com/users/ksumart'}\n"
     ]
    }
   ],
   "source": [
    "pprint(j_data)"
   ]
  },
  {
   "cell_type": "code",
   "execution_count": null,
   "metadata": {},
   "outputs": [],
   "source": []
  }
 ],
 "metadata": {
  "kernelspec": {
   "display_name": "Python 3",
   "language": "python",
   "name": "python3"
  },
  "language_info": {
   "codemirror_mode": {
    "name": "ipython",
    "version": 3
   },
   "file_extension": ".py",
   "mimetype": "text/x-python",
   "name": "python",
   "nbconvert_exporter": "python",
   "pygments_lexer": "ipython3",
   "version": "3.7.3"
  }
 },
 "nbformat": 4,
 "nbformat_minor": 2
}
